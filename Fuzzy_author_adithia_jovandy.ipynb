{
 "cells": [
  {
   "cell_type": "markdown",
   "metadata": {},
   "source": [
    " <div class=\"alert alert-success\">\n",
    "<div>\n",
    "$\n",
    "Author  : Adithia Jovandy\n",
    "$"
   ]
  },
  {
   "cell_type": "markdown",
   "metadata": {},
   "source": [
    "## Shortcut\n",
    "\n",
    "* [Fuzzyfikasi](#Fuzzy)\n",
    "* [Evaluasi Rule](#rules)\n",
    "* [Mekanisme Interferensi](#interferensi)\n",
    "* [Defuzzyfikasi](#defuzzyfikasi)\n",
    "\n",
    "\n"
   ]
  },
  {
   "cell_type": "markdown",
   "metadata": {},
   "source": [
    " <div class=\"alert alert-warning\">\n",
    "<div>\n",
    "\n",
    "\n",
    "# Sistem Predeksi  Suhu Ruangan Dengan Logika Fuzzy Metode Mamdani\n",
    "\n",
    "\n",
    "--------------------------------------\n",
    "Suhu adalah suatu besaran yang menunjukan derajat suatu benda. Benda yang memiliki panas akan menunjukan suhu yang tinggi daripada benda dingin. sering kita menyebutkan suatu benda panas atau dingin dengan menyentuh benda tersebut dengan alat indra kita, walaupun kita tidak dapat menyimpulkan berapa derajat panas dari benda tersebut dengan tepat, untuk mengetahui seberapa besar suhu tersebut maka digunakanlah beberapa metode dengan alat pengukur suhu.\n",
    "\n",
    "Dari latar belakang tersebut, setiap keadaan dari varibel input dan output akan dijabarkan dalam linguistik sebagai berikut:\n",
    "\n",
    "### Input\n",
    "\n",
    "Besar Ruangan Dosen\n",
    "- **kecil**  : 1-100 m^2\n",
    "- **sedang** : 50-150 m^2\n",
    "- **besar**  : 100-200 m^2 \n",
    "\n",
    "Jumlah Orang\n",
    "- **sepi** : 1-50 orang\n",
    "- **pas**  : 25-75 orang\n",
    "- **ramai**  : 50-100 orang\n",
    "\n",
    "Jumlah AC\n",
    "- **sedikit** : 1-5 AC\n",
    "- **rata**    : 2-8 AC\n",
    "- **banyak**  : 5-10 AC\n",
    "\n",
    "Spesifikasi AC\n",
    "- **kecil**   : 1-5 AC\n",
    "- **sedang**  : 2-8 AC\n",
    "- **besar**   : 5-10 AC\n",
    "\n",
    "### Output\n",
    "\n",
    "Suhu\n",
    "- **Dingin**  : 1-15 celcius\n",
    "- **Sedang**  : 7-22 celcius\n",
    "- **panas**  : 15-30 celcius\n",
    "\n"
   ]
  },
  {
   "cell_type": "markdown",
   "metadata": {},
   "source": [
    "#  Mengimpor Library Untuk Fuzzy"
   ]
  },
  {
   "cell_type": "code",
   "execution_count": 2,
   "metadata": {},
   "outputs": [],
   "source": [
    "import numpy as np\n",
    "import skfuzzy as fuzz\n",
    "import matplotlib.pyplot as plt\n",
    "from skfuzzy import control as ctrl "
   ]
  },
  {
   "cell_type": "markdown",
   "metadata": {},
   "source": [
    "## Fuzzyfikasi <a class=\"anchor\" id=\"Fuzzy\"></a>"
   ]
  },
  {
   "cell_type": "markdown",
   "metadata": {},
   "source": [
    "### Menentukan variabel dan semesta pembicaraan"
   ]
  },
  {
   "cell_type": "code",
   "execution_count": 2,
   "metadata": {},
   "outputs": [],
   "source": [
    "besarruangdosen =ctrl.Antecedent(np.arange(1, 201, 1), 'besar ruang dosen')\n",
    "orang = ctrl.Antecedent(np.arange(1, 101, 1), 'jumlah orang')\n",
    "ac = ctrl.Antecedent(np.arange(1, 11, 1), 'jumlah ac')\n",
    "spekac = ctrl.Antecedent(np.arange(1, 11, 1), 'spesifikasi ac')\n",
    "suhu = ctrl.Consequent(np.arange(1, 31, 1), 'suhu')"
   ]
  },
  {
   "cell_type": "markdown",
   "metadata": {},
   "source": [
    "<font color='green'>\n",
    "Penggunaan `antecedent` adalah suatu input yang akan kita gunakan, dan `consequent` sebagai kesimpulan atau outputnya yang akan kita gunakan nantu. Angka didalam kurung merupakan batas awal, batas akhir, dan kelipatannya _**(start,stop,Stride)**_. Kemudian penamaan label dan variabelnya."
   ]
  },
  {
   "cell_type": "markdown",
   "metadata": {},
   "source": [
    " <div class=\"alert alert-warning\">\n",
    "<div>\n",
    "\n",
    "\n",
    "### Menentukan Himpunan Fuzzy\n",
    "Selanjutnya, ketika sudah menentukan semesta pembicaraan atau crisp dari masing-masing variabel dalam bentuk numerik, dilanjutkan dengan membuat himpunan fuzzy yang direpresentasikan dalam variabel linguistik. Setiap variabel linguistik tersebut akan memiliki domain atau range dari minimal ke maksimal. Berikut dibentuk dalam tabel:"
   ]
  },
  {
   "cell_type": "markdown",
   "metadata": {},
   "source": [
    "<font color='green'>\n",
    "    \n",
    "Pada fuzzy terdapat beberapa fungsi keanggotaan, yang bisa direpresentasikan dalam beberapa format, salah satunya adalah kurva Trapesium dan segitiga. Berikut adalah persamaan pada kurva Trapesium dan Segitiga \n"
   ]
  },
  {
   "cell_type": "markdown",
   "metadata": {},
   "source": [
    " <div class=\"alert alert-success\">\n",
    "<div>\n",
    " **persamaan Kurva Trapesium**   \n",
    ".    \n",
    "\n",
    "\n",
    "$ µ[Trapesium] = \n",
    "\\left\\{\n",
    "    \\begin{array}{ll}\n",
    "       0 & \\mbox{; } x \\leq a,OR,x \\geq d \\\\\n",
    "       {x-a \\over b-a} & \\mbox{; } a < x < b \\\\\n",
    "       1 & \\mbox{; }b  \\leq x \\leq c\\\\\n",
    "       {d-x \\over d-c} & \\mbox{; } c < x < d\\\\ \n",
    "    \\end{array}\n",
    "\\right.$ \n",
    ".  \n",
    "\n",
    ".  \n",
    "\n",
    "**persamaan Kurva Trapesium segitiga**  \n",
    ".  \n",
    "\n",
    "$ µ[Segitiga] = \n",
    "\\left\\{\n",
    "    \\begin{array}{ll}\n",
    "       0 & \\mbox{; } x \\leq a,OR,x \\geq c \\\\\n",
    "       {x-a \\over b-a} & \\mbox{; } a < x < b \\\\\n",
    "       {c-x \\over c-b} & \\mbox{; }b < x < c\\\\ \n",
    "    \\end{array}\n",
    "\\right.$ \n",
    "\n",
    "\n",
    "</div>\n",
    "\n"
   ]
  },
  {
   "cell_type": "markdown",
   "metadata": {},
   "source": [
    " <div class=\"alert alert-warning\">\n",
    "<div>\n",
    "\n",
    "\n",
    "### Menentukan Himpunan Fuzzy\n",
    "Selanjutnya, ketika sudah menentukan semesta pembicaraan atau crisp dari masing-masing variabel dalam bentuk numerik, dilanjutkan dengan membuat himpunan fuzzy yang direpresentasikan dalam variabel linguistik. Setiap variabel linguistik tersebut akan memiliki domain atau range dari minimal ke maksimal. Berikut dibentuk dalam tabel:\n",
    "\n",
    "Pada dasarnya Kurva Trapesium atau Kurva segitiga adalah linear , hanya saya ada tambahan sedikit contohnya pada trapesium ada keadaan 1, sedangkan pada segitiga  keadaan 1 hanya pada titik tengah(nilai tengah)\n",
    "\n",
    "Karena kita akan menggunakan kurva segitiga, dan Trapesium , maka fungsi yang akan digunakan adalah `fuzz.trimf` dan juga `fuzz.trapmf` lalu untuk mendefinisikan domainnya, digunakan `variabel.universe` yang selanjutnya memasukkan batas-batasnya (domain), formatnya Kurva segitiga adalah `[batas awal, titik puncak, batas akhir]`. Perintahnya adalah:\n",
    "`variabel['nama himpunan fuzzy'] = fuzz.trimf(variabel.universe, [batas awal, titik puncak, batas akhir])`\n",
    "sedangkan format kurva trapesium adalah `[titik a,b,c dan d]`.perintahnya adalah :\n",
    "`variabel['nama himpunan fuzzy'] = fuzz.trapmf(variabel.universe, [titik a,b,c, dan d])`"
   ]
  },
  {
   "cell_type": "markdown",
   "metadata": {},
   "source": [
    "# Fungsi Keanggotaan Besar ruang dosen"
   ]
  },
  {
   "cell_type": "code",
   "execution_count": 3,
   "metadata": {},
   "outputs": [],
   "source": [
    "besarruangdosen['small'] = fuzz.trapmf(besarruangdosen.universe, [1, 1, 50 ,100])\n",
    "besarruangdosen['normal'] = fuzz.trimf(besarruangdosen.universe, [50, 100, 150])\n",
    "besarruangdosen['large'] = fuzz.trapmf(besarruangdosen.universe, [100,150,201,201])"
   ]
  },
  {
   "cell_type": "markdown",
   "metadata": {},
   "source": [
    "# Fungsi Keanggotaan Jumlah orang"
   ]
  },
  {
   "cell_type": "code",
   "execution_count": 4,
   "metadata": {},
   "outputs": [],
   "source": [
    "orang['sepi'] = fuzz.trapmf(orang.universe, [1, 1, 25 ,50])\n",
    "orang['pas'] = fuzz.trimf(orang.universe, [25, 50, 75])\n",
    "orang['ramai'] = fuzz.trapmf(orang.universe, [50,75,100,100])"
   ]
  },
  {
   "cell_type": "markdown",
   "metadata": {},
   "source": [
    "# Fungsi Keanggotaan Jumlah AC"
   ]
  },
  {
   "cell_type": "code",
   "execution_count": 5,
   "metadata": {},
   "outputs": [],
   "source": [
    "ac['sedikit'] = fuzz.trapmf(ac.universe, [1, 1, 2 ,5])\n",
    "ac['rata'] = fuzz.trimf(ac.universe, [2, 5, 8])\n",
    "ac['banyak'] = fuzz.trapmf(ac.universe, [5,8,10,10])"
   ]
  },
  {
   "cell_type": "markdown",
   "metadata": {},
   "source": [
    "# Fungsi Keanggotaan Spesifikasi AC"
   ]
  },
  {
   "cell_type": "code",
   "execution_count": 6,
   "metadata": {},
   "outputs": [],
   "source": [
    "spekac['kecil'] = fuzz.trapmf(spekac.universe, [1, 1, 2 ,5])\n",
    "spekac['sedang'] = fuzz.trimf(spekac.universe, [2, 5, 8])\n",
    "spekac['besar'] = fuzz.trapmf(spekac.universe, [5,8,10,10])"
   ]
  },
  {
   "cell_type": "markdown",
   "metadata": {},
   "source": [
    "Selanjutnya kita akan memvisualisasikan Fungsi keanggotaan dari input, perintahnya seperti berikut :"
   ]
  },
  {
   "cell_type": "markdown",
   "metadata": {},
   "source": [
    "# Persamaan dan Visualisasi Input"
   ]
  },
  {
   "cell_type": "markdown",
   "metadata": {},
   "source": [
    " <div class=\"alert alert-success\">\n",
    "<div>\n",
    "\n",
    "$Besarruangdosen [small] = \n",
    "\\left\\{\n",
    "    \\begin{array}{ll}\n",
    "       1 & \\mbox{; }1 \\leq x \\leq 50 \\\\\n",
    "       {100-x \\over 100-50} & \\mbox{; } 50 < x < 100 \\\\\n",
    "       0 & \\mbox{; } x \\geq 100\n",
    "    \\end{array}\n",
    "\\right.$ \n",
    "\n",
    "___\n",
    "\n",
    "$Besarruangdosen [normal] = \n",
    "\\left\\{\n",
    "    \\begin{array}{ll}\n",
    "       0 & \\mbox{; } x \\leq 50,OR,x \\geq 150 \\\\\n",
    "       {x-50 \\over 100-50} & \\mbox{; } 50 < x < 100 \\\\\n",
    "       {150-x \\over 150-100} & \\mbox{; } 100 < x < 150\n",
    "    \\end{array}\n",
    "\\right.$\n",
    "\n",
    "___\n",
    "\n",
    "$Besarruangdosen [large] = \n",
    "\\left\\{\n",
    "    \\begin{array}{ll}\n",
    "       0 & \\mbox{; } x \\leq 100 \\\\\n",
    "       {x-100 \\over 150-100} & \\mbox{; } 100 < x < 150 \\\\\n",
    "       1 & \\mbox{; } 150 \\leq x \\leq 200\n",
    "    \\end{array}\n",
    "\\right.$\n",
    "\n",
    "___\n",
    "\n",
    "<div>"
   ]
  },
  {
   "cell_type": "code",
   "execution_count": 7,
   "metadata": {},
   "outputs": [
    {
     "name": "stderr",
     "output_type": "stream",
     "text": [
      "D:\\Anaconda3\\lib\\site-packages\\matplotlib\\figure.py:459: UserWarning: matplotlib is currently using a non-GUI backend, so cannot show the figure\n",
      "  \"matplotlib is currently using a non-GUI backend, \"\n"
     ]
    },
    {
     "data": {
      "image/png": "[encoded data removed]",
      "text/plain": [
       "<Figure size 432x288 with 1 Axes>"
      ]
     },
     "metadata": {},
     "output_type": "display_data"
    }
   ],
   "source": [
    "besarruangdosen.view()"
   ]
  },
  {
   "cell_type": "markdown",
   "metadata": {},
   "source": [
    " <div class=\"alert alert-success\">\n",
    "<div>\n",
    "\n",
    "\n",
    "$Jumlahorang [sepi] = \n",
    "\\left\\{\n",
    "    \\begin{array}{ll}\n",
    "       1 & \\mbox{; }1 \\leq x \\leq 25 \\\\\n",
    "       {50-x \\over 50-25} & \\mbox{; } 25 < x < 50 \\\\\n",
    "       0 & \\mbox{; } x \\geq 50\n",
    "    \\end{array}\n",
    "\\right.$ \n",
    ".\n",
    "\n",
    ".  \n",
    "$jumlahorang [pas] = \n",
    "\\left\\{\n",
    "    \\begin{array}{ll}\n",
    "       0 & \\mbox{; } x \\leq 20,OR,x \\geq 75 \\\\\n",
    "       {x-25 \\over 50-25} & \\mbox{; } 25 < x < 50 \\\\\n",
    "       {75-x \\over 75-50} & \\mbox{; } 50 < x < 75\n",
    "    \\end{array}\n",
    "\\right.$\n",
    ".  \n",
    "\n",
    ".  \n",
    "$jumlahorang [ramai] = \n",
    "\\left\\{\n",
    "    \\begin{array}{ll}\n",
    "       0 & \\mbox{; } x \\leq 50 \\\\\n",
    "       {x-50 \\over 75-50} & \\mbox{; } 50 < x < 75 \\\\\n",
    "       1 & \\mbox{; } 75 \\leq x \\leq 100\n",
    "    \\end{array}\n",
    "\\right.$\n",
    "\n"
   ]
  },
  {
   "cell_type": "code",
   "execution_count": 8,
   "metadata": {},
   "outputs": [
    {
     "name": "stderr",
     "output_type": "stream",
     "text": [
      "D:\\Anaconda3\\lib\\site-packages\\matplotlib\\figure.py:459: UserWarning: matplotlib is currently using a non-GUI backend, so cannot show the figure\n",
      "  \"matplotlib is currently using a non-GUI backend, \"\n"
     ]
    },
    {
     "data": {
      "image/png": "[encoded data removed]",
      "text/plain": [
       "<Figure size 432x288 with 1 Axes>"
      ]
     },
     "metadata": {},
     "output_type": "display_data"
    }
   ],
   "source": [
    "orang.view()"
   ]
  },
  {
   "cell_type": "markdown",
   "metadata": {},
   "source": [
    " <div class=\"alert alert-success\">\n",
    "<div>\n",
    "\n",
    "$Jumlahac [sedikit] = \n",
    "\\left\\{\n",
    "    \\begin{array}{ll}\n",
    "       1 & \\mbox{; }1 \\leq x \\leq 2 \\\\\n",
    "       {5-x \\over 5-2} & \\mbox{; } 2 < x < 5 \\\\\n",
    "       0 & \\mbox{; } x \\geq 5\n",
    "    \\end{array}\n",
    "\\right.$ \n",
    ".  \n",
    "\n",
    ".  \n",
    "\n",
    "$jumlahac [rata] = \n",
    "\\left\\{\n",
    "    \\begin{array}{ll}\n",
    "       0 & \\mbox{; } x \\leq 2,OR,x \\geq 8 \\\\\n",
    "       {x-2 \\over 5-2} & \\mbox{; } 2 < x < 5 \\\\\n",
    "       {8-x \\over 8-5} & \\mbox{; } 5 < x < 8\n",
    "    \\end{array}\n",
    "\\right.$\n",
    ".  \n",
    "\n",
    ".  \n",
    "\n",
    "$jumlahac [banyak] = \n",
    "\\left\\{\n",
    "    \\begin{array}{ll}\n",
    "       0 & \\mbox{; } x \\leq 5 \\\\\n",
    "       {x-5 \\over 8-5} & \\mbox{; } 5 < x < 8 \\\\\n",
    "       1 & \\mbox{; } 8 \\leq x \\leq 10\n",
    "    \\end{array}\n",
    "\\right.$\n",
    "\n",
    "\n"
   ]
  },
  {
   "cell_type": "code",
   "execution_count": 9,
   "metadata": {},
   "outputs": [
    {
     "name": "stderr",
     "output_type": "stream",
     "text": [
      "D:\\Anaconda3\\lib\\site-packages\\matplotlib\\figure.py:459: UserWarning: matplotlib is currently using a non-GUI backend, so cannot show the figure\n",
      "  \"matplotlib is currently using a non-GUI backend, \"\n"
     ]
    },
    {
     "data": {
      "image/png": "[encoded data removed]",
      "text/plain": [
       "<Figure size 432x288 with 1 Axes>"
      ]
     },
     "metadata": {},
     "output_type": "display_data"
    }
   ],
   "source": [
    "ac.view()"
   ]
  },
  {
   "cell_type": "markdown",
   "metadata": {},
   "source": [
    " <div class=\"alert alert-success\">\n",
    "<div>\n",
    "\n",
    "\n",
    "$Spekac [kecil] = \n",
    "\\left\\{\n",
    "    \\begin{array}{ll}\n",
    "       1 & \\mbox{; }1 \\leq x \\leq 2 \\\\\n",
    "       {5-x \\over 5-2} & \\mbox{; } 2 < x < 5 \\\\\n",
    "       0 & \\mbox{; } x \\geq 5\n",
    "    \\end{array}\n",
    "\\right.$ \n",
    ".  \n",
    "\n",
    ".  \n",
    "$spekac [sedang] = \n",
    "\\left\\{\n",
    "    \\begin{array}{ll}\n",
    "       0 & \\mbox{; } x \\leq 2,OR,x \\geq 8 \\\\\n",
    "       {x-2 \\over 5-2} & \\mbox{; } 2 < x < 5 \\\\\n",
    "       {8-x \\over 8-5} & \\mbox{; } 5 < x < 8\n",
    "    \\end{array}\n",
    "\\right.$\n",
    ".  \n",
    "\n",
    ".  \n",
    "\n",
    "$spekac [besar] = \n",
    "\\left\\{\n",
    "    \\begin{array}{ll}\n",
    "       0 & \\mbox{; } x \\leq 5 \\\\\n",
    "       {x-5 \\over 8-5} & \\mbox{; } 5 < x < 8 \\\\\n",
    "       1 & \\mbox{; } 8 \\leq x \\leq 10\n",
    "    \\end{array}\n",
    "\\right.$\n",
    "\n",
    "\n",
    "\n"
   ]
  },
  {
   "cell_type": "code",
   "execution_count": 10,
   "metadata": {},
   "outputs": [
    {
     "name": "stderr",
     "output_type": "stream",
     "text": [
      "D:\\Anaconda3\\lib\\site-packages\\matplotlib\\figure.py:459: UserWarning: matplotlib is currently using a non-GUI backend, so cannot show the figure\n",
      "  \"matplotlib is currently using a non-GUI backend, \"\n"
     ]
    },
    {
     "data": {
      "image/png": "[encoded data removed]",
      "text/plain": [
       "<Figure size 432x288 with 1 Axes>"
      ]
     },
     "metadata": {},
     "output_type": "display_data"
    }
   ],
   "source": [
    "spekac.view()"
   ]
  },
  {
   "cell_type": "markdown",
   "metadata": {},
   "source": [
    "# Fungsi Keanggotaan Suhu Ruangan"
   ]
  },
  {
   "cell_type": "markdown",
   "metadata": {},
   "source": [
    "<font color='green'>\n",
    "Begitu juga pada sistem output kita juga harus memuat fungsi keanggotaanya dan juga visualisasinya, perintah sebagai berikut :"
   ]
  },
  {
   "cell_type": "code",
   "execution_count": 11,
   "metadata": {},
   "outputs": [],
   "source": [
    "suhu['dingin'] = fuzz.trapmf(suhu.universe, [1, 1, 7 ,15])\n",
    "suhu['nyaman'] = fuzz.trimf(suhu.universe, [7, 15, 22])\n",
    "suhu['panas'] = fuzz.trapmf(suhu.universe, [15,22,30,30])"
   ]
  },
  {
   "cell_type": "markdown",
   "metadata": {},
   "source": [
    "# Visualisasi Output"
   ]
  },
  {
   "cell_type": "markdown",
   "metadata": {},
   "source": [
    " <div class=\"alert alert-success\">\n",
    "<div>\n",
    "\n",
    "\n",
    "$Suhu [dingin] = \n",
    "\\left\\{\n",
    "    \\begin{array}{ll}\n",
    "       1 & \\mbox{; }1 \\leq x \\leq 7 \\\\\n",
    "       {15-x \\over 15-7} & \\mbox{; } 7 < x < 15 \\\\\n",
    "       0 & \\mbox{; } x \\geq 15\n",
    "    \\end{array}\n",
    "\\right.$ \n",
    ".    \n",
    " \n",
    ".   \n",
    "\n",
    "$suhu [nyaman] = \n",
    "\\left\\{\n",
    "    \\begin{array}{ll}\n",
    "       0 & \\mbox{; } x \\leq 7,OR,x \\geq 22 \\\\\n",
    "       {x-7 \\over 15-7} & \\mbox{; } 7 < x < 15 \\\\\n",
    "       {22-x \\over 22-15} & \\mbox{; } 15 < x < 22\n",
    "    \\end{array}\n",
    "\\right.$\n",
    ".  \n",
    "\n",
    ".    \n",
    "$suhu [panas] = \n",
    "\\left\\{\n",
    "    \\begin{array}{ll}\n",
    "       0 & \\mbox{; } x \\leq 15 \\\\\n",
    "       {x-5 \\over 8-5} & \\mbox{; } 15 < x < 22 \\\\\n",
    "       1 & \\mbox{; } 22 \\leq x \\leq 30\n",
    "    \\end{array}\n",
    "\\right.$\n"
   ]
  },
  {
   "cell_type": "code",
   "execution_count": 12,
   "metadata": {},
   "outputs": [
    {
     "name": "stderr",
     "output_type": "stream",
     "text": [
      "D:\\Anaconda3\\lib\\site-packages\\matplotlib\\figure.py:459: UserWarning: matplotlib is currently using a non-GUI backend, so cannot show the figure\n",
      "  \"matplotlib is currently using a non-GUI backend, \"\n"
     ]
    },
    {
     "data": {
      "image/png": "[encoded data removed]",
      "text/plain": [
       "<Figure size 432x288 with 1 Axes>"
      ]
     },
     "metadata": {},
     "output_type": "display_data"
    }
   ],
   "source": [
    "suhu.view()"
   ]
  },
  {
   "cell_type": "markdown",
   "metadata": {},
   "source": [
    "<font color='green'>\n",
    "Selanjutnya Kita akan memasukan Rules based biasanya Rules based didapatkan Dipaper dan diisi oleh para ahli/Expert pada bidangnya, berikut penentuan rules based :\n"
   ]
  },
  {
   "cell_type": "markdown",
   "metadata": {},
   "source": [
    "# Evaluasi Rules <a class=\"anchor\" id=\"rules\"></a>"
   ]
  },
  {
   "cell_type": "markdown",
   "metadata": {},
   "source": [
    " <div class=\"alert alert-success\">\n",
    "<div>\n",
    "\n",
    "\n",
    "\n",
    "\n",
    "|Besar Ruang Dosen   \t    |   Jumlah Orang \t    |  Jumlah Ac  \t    | Spesifikasi AC \t    | SUHU Ruangan\t    |\n",
    "|---\t    |---\t    |---\t    |---\t    |---\t    |\n",
    "|small      |sepi  \t    |sedikit    |kecil      |nyaman     |\n",
    "|small   \t|sepi   \t|sedikit   \t|sedang     |dingin   \t|\n",
    "|small   \t|sepi   \t|sedikit   \t|besar      |dingin   \t|\n",
    "|small   \t|pas    \t|rata    \t|kecil   \t|nyaman   \t|\n",
    "|small   \t|pas   \t    |rata   \t|sedang   \t|nyaman    \t|\n",
    "|small   \t|pas   \t    |rata   \t|besar   \t|dingin     |\n",
    "|small   \t|ramai   \t|banyak   \t|kecil   \t|nyaman   \t|\n",
    "|small   \t|ramai   \t|banyak   \t|sedang   \t|nyaman   \t|\n",
    "|small   \t|ramai   \t|banyak   \t|besar   \t|nyaman   \t|\n",
    "|normal   \t|sepi   \t|sedikit   \t|kecil   \t|nyaman   \t|\n",
    "|normal   \t|sepi    \t|sedikit   \t|sedang   \t|nyaman   \t|\n",
    "|normal   \t|sepi    \t|sedikit   \t|besar   \t|nyaman\t    |\n",
    "|normal   \t|pas    \t|rata   \t|kecil   \t|nyaman     |\n",
    "|normal   \t|pas    \t|rata   \t|sedang   \t|nyaman   \t|\n",
    "|normal   \t|pas    \t|rata   \t|besar   \t|nyaman   \t|\n",
    "|normal   \t|ramai    \t|banyak   \t|kecil   \t|nyaman   \t|\n",
    "|normal   \t|ramai    \t|banyak    \t|sedang   \t|nyaman   \t|\n",
    "|normal   \t|ramai    \t|banyak    \t|besar   \t|nyaman     |\n",
    "|large   \t|sepi   \t|sedikit   \t|kecil   \t|nyaman   \t|\n",
    "|large    \t|sepi   \t|sedikit   \t|sedang   \t|nyaman   \t|\n",
    "|large    \t|sepi   \t|sedikit   \t|besar   \t|nyaman   \t|\n",
    "|large    \t|pas   \t    |rata   \t|kecil   \t|nyaman   \t|\n",
    "|large    \t|pas    \t|rata   \t|sedang   \t|nyaman   \t|\n",
    "|large    \t|pas    \t|rata   \t|besar   \t|nyaman   \t|\n",
    "|large    \t|ramai  \t|banyak   \t|kecil   \t|nyaman   \t|\n",
    "|large    \t|ramai   \t|banyak   \t|sedang   \t|nyaman   \t|\n",
    "|large    \t|ramai   \t|banyak   \t|besar   \t|nyaman   \t|\n",
    "|small   \t|sepi   \t|rata   \t|kecil   \t|nyaman   \t|\n",
    "|small   \t|sepi   \t|rata   \t|sedang   \t|dingin   \t|\n",
    "|small   \t|sepi   \t|rata   \t|besar   \t|dingin   \t|\n",
    "|small   \t|sepi   \t|banyak   \t|kecil   \t|dingin   \t|\n",
    "|small   \t|sepi   \t|banyak   \t|sedang   \t|dingin   \t|\n",
    "|small   \t|sepi   \t|banyak   \t|besar   \t|dingin   \t|\n",
    "|small   \t|pas    \t|sedikit   \t|kecil   \t|nyaman   \t|\n",
    "|small   \t|pas    \t|sedikit   \t|sedang   \t|nyaman   \t|\n",
    "|small   \t|pas    \t|sedikit   \t|besar   \t|nyaman   \t|\n",
    "|small   \t|pas    \t|banyak   \t|kecil   \t|nyaman   \t|\n",
    "|small   \t|pas    \t|banyak   \t|sedang   \t|nyaman   \t|\n",
    "|small   \t|pas    \t|banyak   \t|besar   \t|nyaman   \t|\n",
    "|small   \t|ramai   \t|sedikit   \t|kecil   \t|panas   \t|\n",
    "|small   \t|ramai   \t|sedikit   \t|sedang   \t|panas   \t|\n",
    "|small   \t|ramai   \t|sedikit   \t|besar   \t|nyaman   \t|\n",
    "|small   \t|ramai   \t|rata   \t|kecil   \t|nyaman   \t|\n",
    "|small   \t|ramai   \t|rata   \t|sedang   \t|nyaman   \t|\n",
    "|small   \t|ramai   \t|rata   \t|besar   \t|nyaman   \t|\n",
    "|normal   \t|sepi    \t|rata   \t|kecil   \t|nyaman   \t|\n",
    "|normal   \t|sepi    \t|rata   \t|sedang   \t|nyaman   \t|\n",
    "|normal   \t|sepi    \t|rata   \t|besar   \t|dingin   \t|\n",
    "|normal   \t|sepi    \t|banyak   \t|kecil   \t|nyaman   \t|\n",
    "|normal   \t|sepi    \t|banyak   \t|sedang   \t|dingin   \t|\n",
    "|normal   \t|sepi    \t|banyak   \t|besar   \t|dingin   \t|\n",
    "|normal   \t|pas    \t|sedikit   \t|kecil   \t|panas   \t|\n",
    "|normal   \t|pas    \t|sedikit   \t|sedang   \t|nyaman   \t|\n",
    "|normal   \t|pas    \t|sedikit   \t|besar   \t|nyaman   \t|\n",
    "|normal   \t|pas    \t|banyak   \t|kecil   \t|nyaman   \t|\n",
    "|normal   \t|pas    \t|banyak   \t|sedang   \t|nyaman   \t|\n",
    "|normal   \t|pas    \t|banyak   \t|besar   \t|dingin   \t|\n",
    "|normal   \t|ramai   \t|sedikit   \t|kecil   \t|panas   \t|\n",
    "|normal   \t|ramai   \t|sedikit   \t|sedang   \t|panas   \t|\n",
    "|normal   \t|ramai   \t|sedikit   \t|besar   \t|panas   \t|\n",
    "|normal   \t|ramai   \t|rata   \t|kecil   \t|panas   \t|\n",
    "|normal   \t|ramai   \t|rata   \t|sedang   \t|nyaman   \t|\n",
    "|normal   \t|ramai   \t|rata   \t|besar   \t|nyaman   \t|\n",
    "|large   \t|sepi    \t|rata   \t|kecil   \t|nyaman   \t|\n",
    "|large   \t|sepi   \t|rata   \t|sedang   \t|dingin     |\n",
    "|large   \t|sepi   \t|rata   \t|besar   \t|dingin   \t|\n",
    "|large   \t|sepi   \t|banyak   \t|kecil   \t|nyaman   \t|\n",
    "|large   \t|sepi   \t|banyak   \t|sedang   \t|dingin   \t|\n",
    "|large   \t|sepi   \t|banyak   \t|besar   \t|dingin   \t|\n",
    "|large   \t|pas    \t|sedikit   \t|kecil   \t|panas   \t|\n",
    "|large   \t|pas    \t|sedikit   \t|sedang   \t|nyaman   \t|\n",
    "|large   \t|pas    \t|sedikit   \t|besar   \t|nyaman   \t|\n",
    "|large   \t|pas   \t    |banyak   \t|kecil   \t|nyaman\t    |\n",
    "|large   \t|pas    \t|banyak   \t|sedang   \t|nyaman     |\n",
    "|large   \t|pas    \t|banyak   \t|besar   \t|dingin   \t|\n",
    "|large   \t|ramai    \t|sedikit   \t|kecil   \t|panas   \t|\n",
    "|large   \t|ramai    \t|sedikit   \t|sedang   \t|panas   \t|\n",
    "|large   \t|ramai    \t|sedikit   \t|besar   \t|panas   \t|\n",
    "|large   \t|ramai    \t|rata   \t|kecil   \t|nyaman   \t|\n",
    "|large   \t|ramai    \t|rata   \t|sedang   \t|nyaman   \t|\n",
    "|large   \t|ramai    \t|rata   \t|besar   \t|nyaman   \t|"
   ]
  },
  {
   "cell_type": "markdown",
   "metadata": {},
   "source": [
    "<font color='green'>\n",
    "Rules based kemudian dibuat dalam sistem coding caranya seperti berikut :"
   ]
  },
  {
   "cell_type": "code",
   "execution_count": 13,
   "metadata": {},
   "outputs": [],
   "source": [
    "rule1 = ctrl.Rule(besarruangdosen['small'] & orang['sepi'] & ac['sedikit'] & spekac['kecil'] , suhu['nyaman'])\n",
    "rule2 = ctrl.Rule(besarruangdosen['small'] & orang['sepi'] & ac['sedikit'] & spekac['sedang'] , suhu['dingin'])\n",
    "rule3 = ctrl.Rule(besarruangdosen['small'] & orang['sepi'] & ac['sedikit'] & spekac['besar'] , suhu['dingin'])\n",
    "rule4 = ctrl.Rule(besarruangdosen['small'] & orang['pas'] & ac['rata'] & spekac['kecil'] , suhu['nyaman'])\n",
    "rule5 = ctrl.Rule(besarruangdosen['small'] & orang['pas'] & ac['rata'] & spekac['sedang'] , suhu['nyaman'])\n",
    "rule6 = ctrl.Rule(besarruangdosen['small'] & orang['pas'] & ac['rata'] & spekac['besar'] , suhu['dingin'])\n",
    "rule7 = ctrl.Rule(besarruangdosen['small'] & orang['ramai'] & ac['banyak'] & spekac['kecil'] , suhu['nyaman'])\n",
    "rule8 = ctrl.Rule(besarruangdosen['small'] & orang['ramai'] & ac['banyak'] & spekac['sedang'] , suhu['nyaman'])\n",
    "rule9 = ctrl.Rule(besarruangdosen['small'] & orang['ramai'] & ac['banyak'] & spekac['besar'] , suhu['nyaman'])\n",
    "rule10 = ctrl.Rule(besarruangdosen['normal'] & orang['sepi'] & ac['sedikit'] & spekac['kecil'] , suhu['nyaman'])\n",
    "rule11 = ctrl.Rule(besarruangdosen['normal'] & orang['sepi'] & ac['sedikit'] & spekac['sedang'] , suhu['nyaman'])\n",
    "rule12 = ctrl.Rule(besarruangdosen['normal'] & orang['sepi'] & ac['sedikit'] & spekac['besar'] , suhu['nyaman'])\n",
    "rule13 = ctrl.Rule(besarruangdosen['normal'] & orang['pas'] & ac['rata'] & spekac['kecil'] , suhu['nyaman'])\n",
    "rule14 = ctrl.Rule(besarruangdosen['normal'] & orang['pas'] & ac['rata'] & spekac['sedang'] , suhu['nyaman'])\n",
    "rule15 = ctrl.Rule(besarruangdosen['normal'] & orang['pas'] & ac['rata'] & spekac['besar'] , suhu['nyaman'])\n",
    "rule16 = ctrl.Rule(besarruangdosen['normal'] & orang['ramai'] & ac['banyak'] & spekac['kecil'] , suhu['nyaman'])\n",
    "rule17 = ctrl.Rule(besarruangdosen['normal'] & orang['ramai'] & ac['banyak'] & spekac['sedang'] , suhu['nyaman'])\n",
    "rule18 = ctrl.Rule(besarruangdosen['normal'] & orang['ramai'] & ac['banyak'] & spekac['besar'] , suhu['nyaman'])\n",
    "rule19 = ctrl.Rule(besarruangdosen['large'] & orang['sepi'] & ac['sedikit'] & spekac['kecil'] , suhu['nyaman'])\n",
    "rule20 = ctrl.Rule(besarruangdosen['large'] & orang['sepi'] & ac['sedikit'] & spekac['sedang'] , suhu['nyaman'])\n",
    "\n",
    "rule21 = ctrl.Rule(besarruangdosen['large'] & orang['sepi'] & ac['sedikit'] & spekac['besar'] , suhu['nyaman'])\n",
    "rule22 = ctrl.Rule(besarruangdosen['large'] & orang['pas'] & ac['rata'] & spekac['kecil'] , suhu['nyaman'])\n",
    "rule23 = ctrl.Rule(besarruangdosen['large'] & orang['pas'] & ac['rata'] & spekac['sedang'] , suhu['nyaman'])\n",
    "rule24 = ctrl.Rule(besarruangdosen['large'] & orang['pas'] & ac['rata'] & spekac['besar'] , suhu['nyaman'])\n",
    "rule25 = ctrl.Rule(besarruangdosen['large'] & orang['ramai'] & ac['banyak'] & spekac['kecil'] , suhu['nyaman'])\n",
    "rule26 = ctrl.Rule(besarruangdosen['large'] & orang['ramai'] & ac['banyak'] & spekac['sedang'] , suhu['nyaman'])\n",
    "rule27 = ctrl.Rule(besarruangdosen['large'] & orang['ramai'] & ac['banyak'] & spekac['besar'] , suhu['nyaman'])\n",
    "rule28 = ctrl.Rule(besarruangdosen['small'] & orang['sepi'] & ac['rata'] & spekac['kecil'] , suhu['nyaman'])\n",
    "rule29 = ctrl.Rule(besarruangdosen['small'] & orang['sepi'] & ac['rata'] & spekac['sedang'] , suhu['dingin'])\n",
    "rule30 = ctrl.Rule(besarruangdosen['small'] & orang['sepi'] & ac['rata'] & spekac['besar'] , suhu['dingin'])\n",
    "rule31 = ctrl.Rule(besarruangdosen['small'] & orang['sepi'] & ac['banyak'] & spekac['kecil'] , suhu['dingin'])\n",
    "rule32 = ctrl.Rule(besarruangdosen['small'] & orang['sepi'] & ac['banyak'] & spekac['sedang'] , suhu['dingin'])\n",
    "rule33 = ctrl.Rule(besarruangdosen['small'] & orang['sepi'] & ac['banyak'] & spekac['besar'] , suhu['dingin'])\n",
    "rule34 = ctrl.Rule(besarruangdosen['small'] & orang['pas'] & ac['sedikit'] & spekac['kecil'] , suhu['nyaman'])\n",
    "rule35 = ctrl.Rule(besarruangdosen['small'] & orang['pas'] & ac['sedikit'] & spekac['sedang'] , suhu['nyaman'])\n",
    "rule36 = ctrl.Rule(besarruangdosen['small'] & orang['pas'] & ac['sedikit'] & spekac['besar'] , suhu['nyaman'])\n",
    "rule37 = ctrl.Rule(besarruangdosen['small'] & orang['pas'] & ac['banyak'] & spekac['kecil'] , suhu['nyaman'])\n",
    "rule38 = ctrl.Rule(besarruangdosen['small'] & orang['pas'] & ac['banyak'] & spekac['sedang'] , suhu['nyaman'])\n",
    "rule39 = ctrl.Rule(besarruangdosen['small'] & orang['pas'] & ac['banyak'] & spekac['besar'] , suhu['nyaman'])\n",
    "rule40 = ctrl.Rule(besarruangdosen['small'] & orang['ramai'] & ac['sedikit'] & spekac['kecil'] , suhu['panas'])\n",
    "rule41 = ctrl.Rule(besarruangdosen['small'] & orang['ramai'] & ac['sedikit'] & spekac['sedang'] , suhu['panas'])\n",
    "rule42 = ctrl.Rule(besarruangdosen['small'] & orang['ramai'] & ac['sedikit'] & spekac['besar'] , suhu['nyaman'])\n",
    "rule43 = ctrl.Rule(besarruangdosen['small'] & orang['ramai'] & ac['rata'] & spekac['kecil'] , suhu['nyaman'])\n",
    "rule44 = ctrl.Rule(besarruangdosen['small'] & orang['ramai'] & ac['rata'] & spekac['sedang'] , suhu['nyaman'])\n",
    "rule45 = ctrl.Rule(besarruangdosen['small'] & orang['ramai'] & ac['rata'] & spekac['besar'] , suhu['nyaman'])\n",
    "\n",
    "rule46 = ctrl.Rule(besarruangdosen['normal'] & orang['sepi'] & ac['rata'] & spekac['kecil'] , suhu['nyaman'])\n",
    "rule47 = ctrl.Rule(besarruangdosen['normal'] & orang['sepi'] & ac['rata'] & spekac['sedang'] , suhu['nyaman'])\n",
    "rule48 = ctrl.Rule(besarruangdosen['normal'] & orang['sepi'] & ac['rata'] & spekac['besar'] , suhu['dingin'])\n",
    "rule49 = ctrl.Rule(besarruangdosen['normal'] & orang['sepi'] & ac['banyak'] & spekac['kecil'] , suhu['nyaman'])\n",
    "rule50 = ctrl.Rule(besarruangdosen['normal'] & orang['sepi'] & ac['banyak'] & spekac['sedang'] , suhu['dingin'])\n",
    "rule51 = ctrl.Rule(besarruangdosen['normal'] & orang['sepi'] & ac['banyak'] & spekac['besar'] , suhu['dingin'])\n",
    "rule52 = ctrl.Rule(besarruangdosen['normal'] & orang['pas'] & ac['sedikit'] & spekac['kecil'] , suhu['panas'])\n",
    "rule53 = ctrl.Rule(besarruangdosen['normal'] & orang['pas'] & ac['sedikit'] & spekac['sedang'] , suhu['nyaman'])\n",
    "rule54 = ctrl.Rule(besarruangdosen['normal'] & orang['pas'] & ac['sedikit'] & spekac['besar'] , suhu['nyaman'])\n",
    "rule55 = ctrl.Rule(besarruangdosen['normal'] & orang['pas'] & ac['banyak'] & spekac['kecil'] , suhu['nyaman'])\n",
    "rule56 = ctrl.Rule(besarruangdosen['normal'] & orang['pas'] & ac['banyak'] & spekac['sedang'] , suhu['nyaman'])\n",
    "rule57 = ctrl.Rule(besarruangdosen['normal'] & orang['pas'] & ac['banyak'] & spekac['besar'] , suhu['dingin'])\n",
    "rule58 = ctrl.Rule(besarruangdosen['normal'] & orang['ramai'] & ac['sedikit'] & spekac['kecil'] , suhu['panas'])\n",
    "rule59 = ctrl.Rule(besarruangdosen['normal'] & orang['ramai'] & ac['sedikit'] & spekac['sedang'] , suhu['panas'])\n",
    "rule60 = ctrl.Rule(besarruangdosen['normal'] & orang['ramai'] & ac['sedikit'] & spekac['besar'] , suhu['panas'])\n",
    "rule61 = ctrl.Rule(besarruangdosen['normal'] & orang['ramai'] & ac['rata'] & spekac['kecil'] , suhu['panas'])\n",
    "rule62 = ctrl.Rule(besarruangdosen['normal'] & orang['ramai'] & ac['rata'] & spekac['sedang'] , suhu['nyaman'])\n",
    "rule63 = ctrl.Rule(besarruangdosen['normal'] & orang['ramai'] & ac['rata'] & spekac['besar'] , suhu['nyaman'])\n",
    "rule64 = ctrl.Rule(besarruangdosen['large'] & orang['sepi'] & ac['rata'] & spekac['kecil'] , suhu['nyaman'])\n",
    "rule65 = ctrl.Rule(besarruangdosen['large'] & orang['sepi'] & ac['rata'] & spekac['sedang'] , suhu['dingin'])\n",
    "rule66 = ctrl.Rule(besarruangdosen['large'] & orang['sepi'] & ac['rata'] & spekac['besar'] , suhu['dingin'])\n",
    "\n",
    "rule67 = ctrl.Rule(besarruangdosen['large'] & orang['sepi'] & ac['banyak'] & spekac['kecil'] , suhu['nyaman'])\n",
    "rule68 = ctrl.Rule(besarruangdosen['large'] & orang['sepi'] & ac['banyak'] & spekac['sedang'] , suhu['nyaman'])\n",
    "rule69 = ctrl.Rule(besarruangdosen['large'] & orang['sepi'] & ac['banyak'] & spekac['besar'] , suhu['dingin'])\n",
    "rule70 = ctrl.Rule(besarruangdosen['large'] & orang['pas'] & ac['sedikit'] & spekac['kecil'] , suhu['panas'])\n",
    "rule71 = ctrl.Rule(besarruangdosen['large'] & orang['pas'] & ac['sedikit'] & spekac['sedang'] , suhu['nyaman'])\n",
    "rule72 = ctrl.Rule(besarruangdosen['large'] & orang['pas'] & ac['sedikit'] & spekac['besar'] , suhu['nyaman'])\n",
    "rule73 = ctrl.Rule(besarruangdosen['large'] & orang['pas'] & ac['banyak'] & spekac['kecil'] , suhu['nyaman'])\n",
    "rule74 = ctrl.Rule(besarruangdosen['large'] & orang['pas'] & ac['banyak'] & spekac['sedang'] , suhu['nyaman'])\n",
    "rule75 = ctrl.Rule(besarruangdosen['large'] & orang['pas'] & ac['banyak'] & spekac['besar'] , suhu['dingin'])\n",
    "rule76 = ctrl.Rule(besarruangdosen['large'] & orang['ramai'] & ac['sedikit'] & spekac['kecil'] , suhu['panas'])\n",
    "rule77 = ctrl.Rule(besarruangdosen['large'] & orang['ramai'] & ac['sedikit'] & spekac['sedang'] , suhu['panas'])\n",
    "rule78 = ctrl.Rule(besarruangdosen['large'] & orang['ramai'] & ac['sedikit'] & spekac['besar'] , suhu['panas'])\n",
    "rule79 = ctrl.Rule(besarruangdosen['large'] & orang['ramai'] & ac['rata'] & spekac['kecil'] , suhu['nyaman'])\n",
    "rule80 = ctrl.Rule(besarruangdosen['large'] & orang['ramai'] & ac['rata'] & spekac['sedang'] , suhu['nyaman'])\n",
    "rule81 = ctrl.Rule(besarruangdosen['large'] & orang['ramai'] & ac['rata'] & spekac['besar'] , suhu['nyaman'])\n",
    "\n",
    "\n"
   ]
  },
  {
   "cell_type": "markdown",
   "metadata": {},
   "source": [
    "<font color='green'>\n",
    "Setelah rules based selesai, kita harus menggabungkan rules tersebut menjadi suatu kontrol dari sistem fuzzy agar dapat disimulasikan kedalam sistem control."
   ]
  },
  {
   "cell_type": "markdown",
   "metadata": {},
   "source": [
    "# Menggabungan Rules untuk dijadikan sebagai Kontrol Sistem Fuzzy"
   ]
  },
  {
   "cell_type": "code",
   "execution_count": 14,
   "metadata": {},
   "outputs": [],
   "source": [
    "simulasi_suhu = ctrl.ControlSystem([rule1, rule2, rule3, rule4, rule5, rule6, rule7, rule8, rule9, rule10, rule11, rule12, rule13, rule14, rule15, rule16, rule17, rule18, rule19, rule20, rule21, rule22, rule23, rule24, rule25, rule26, rule27, rule28, rule29, rule30, rule31, rule32, rule33, rule34, rule35, rule36, rule37, rule38, rule39, rule40, rule41, rule42, rule43, rule44, rule45, rule46, rule47, rule48, rule49, rule50, rule51, rule52, rule53, rule54, rule55, rule56, rule57, rule58, rule59, rule60, rule61, rule62, rule63, rule64, rule65, rule66, rule67, rule68, rule69, rule70, rule71, rule72, rule73, rule74, rule75, rule76, rule77, rule78, rule79, rule80, rule81])"
   ]
  },
  {
   "cell_type": "markdown",
   "metadata": {},
   "source": [
    "# Visualisasi Rules  "
   ]
  },
  {
   "cell_type": "markdown",
   "metadata": {},
   "source": [
    "<font color='green'>\n",
    "Visualisasi rules ini menunjukan semua data rules yang diuraikan "
   ]
  },
  {
   "cell_type": "code",
   "execution_count": 15,
   "metadata": {},
   "outputs": [
    {
     "name": "stderr",
     "output_type": "stream",
     "text": [
      "D:\\Anaconda3\\lib\\site-packages\\matplotlib\\figure.py:459: UserWarning: matplotlib is currently using a non-GUI backend, so cannot show the figure\n",
      "  \"matplotlib is currently using a non-GUI backend, \"\n"
     ]
    },
    {
     "data": {
      "image/png": "[encoded data removed]",
      "text/plain": [
       "<Figure size 432x288 with 1 Axes>"
      ]
     },
     "metadata": {},
     "output_type": "display_data"
    }
   ],
   "source": [
    "simulasi_suhu.view()"
   ]
  },
  {
   "cell_type": "markdown",
   "metadata": {},
   "source": [
    "<font color='green'>\n",
    "visualisasi Rules yang sudah diberi dilabel (digabung)"
   ]
  },
  {
   "cell_type": "code",
   "execution_count": 16,
   "metadata": {},
   "outputs": [
    {
     "name": "stderr",
     "output_type": "stream",
     "text": [
      "D:\\Anaconda3\\lib\\site-packages\\matplotlib\\figure.py:459: UserWarning: matplotlib is currently using a non-GUI backend, so cannot show the figure\n",
      "  \"matplotlib is currently using a non-GUI backend, \"\n"
     ]
    },
    {
     "data": {
      "image/png": "[encoded data removed]",
      "text/plain": [
       "<Figure size 432x288 with 1 Axes>"
      ]
     },
     "metadata": {},
     "output_type": "display_data"
    }
   ],
   "source": [
    "simulasi_suhu.view_n()"
   ]
  },
  {
   "cell_type": "markdown",
   "metadata": {},
   "source": [
    "# Mensimulasikan "
   ]
  },
  {
   "cell_type": "code",
   "execution_count": 17,
   "metadata": {},
   "outputs": [],
   "source": [
    "suhu_ruangan = ctrl.ControlSystemSimulation(simulasi_suhu)"
   ]
  },
  {
   "cell_type": "markdown",
   "metadata": {},
   "source": [
    "# TEST CASE"
   ]
  },
  {
   "cell_type": "markdown",
   "metadata": {},
   "source": [
    "<font color='green'>\n",
    "Melakukan penginputan berdasarkan Problem  yang ada"
   ]
  },
  {
   "cell_type": "code",
   "execution_count": 18,
   "metadata": {},
   "outputs": [],
   "source": [
    "suhu_ruangan.input['besar ruang dosen'] = 110\n",
    "suhu_ruangan.input['jumlah orang'] = 10\n",
    "suhu_ruangan.input['jumlah ac'] = 2\n",
    "suhu_ruangan.input['spesifikasi ac'] =2"
   ]
  },
  {
   "cell_type": "markdown",
   "metadata": {},
   "source": [
    " <div class=\"alert alert-warning\">\n",
    "<div>\n",
    "\n",
    "Selanjutnya kita akan mencoba penghitungan manual lalu membandingkannya dengan penghitungan komputer\n",
    "\n",
    "Diketahui disini nilai input \n",
    "Besar ruangan dosen sebesar 110 yang menunjukan ruangan ini bernilai diantara normal dan large, sedangkan jumlah orang sebanyak 10 (pas), kemudian jumlah ac sebanyak 2 (rata) dan PK AC benilai 2 (sedang), Dengan nilai ini kita dapat menghitungnya secara komputasi dan juga manual berikut adalah cara penghitungan manualnya : \n"
   ]
  },
  {
   "cell_type": "markdown",
   "metadata": {},
   "source": [
    "# Mekanisme Interferensi <a class=\"anchor\" id=\"interferensi\"></a>"
   ]
  },
  {
   "cell_type": "markdown",
   "metadata": {},
   "source": [
    " <div class=\"alert alert-success\">\n",
    "<div>\n",
    "\n",
    "\n",
    "$ µ[Segitiga] = \n",
    "\\left\\{\n",
    "    \\begin{array}{ll}\n",
    "       0 & \\mbox{; } x \\leq a,OR,x \\geq c \\\\\n",
    "       {x-a \\over b-a} & \\mbox{; } a < x < b \\\\\n",
    "       {c-x \\over c-b} & \\mbox{; }b < x < c\\\\ \n",
    "    \\end{array}\n",
    "\\right.$------>\n",
    "$ µnormal[110] = \n",
    "\\left\\{\n",
    "    \\begin{array}{ll}\n",
    "       {150-110 \\over 150-100} & \\mbox{; } 100 < x < 150 \\\\\n",
    "    \\end{array}\n",
    "\\right.$\n",
    "\n",
    "$µnormal[110]=0.8$\n",
    "\n",
    ".  \n",
    "$ µ[Trapesium] = \n",
    "\\left\\{\n",
    "    \\begin{array}{ll}\n",
    "       0 & \\mbox{; } x \\leq a,OR,x \\geq d \\\\\n",
    "       {x-a \\over b-a} & \\mbox{; } a < x < b \\\\\n",
    "       1 & \\mbox{; }b \\leq x \\leq c\\\\\n",
    "       {d-x \\over d-c} & \\mbox {; }c < x < d\\\\ \n",
    "    \\end{array}\n",
    "\\right.$------>\n",
    "$ µlargel[110] = \n",
    "\\left\\{\n",
    "    \\begin{array}{ll}\n",
    "       {110-100 \\over 150-100} & \\mbox{; } 100 < 110 < 150 \\\\\n",
    "    \\end{array}\n",
    "\\right.$\n",
    "\n",
    "$µlarge[110]=0.2$\n",
    "\n",
    ".  \n",
    "$ µ[pas] = \n",
    "\\left\\{\n",
    "    \\begin{array}{ll}\n",
    "       0 & \\mbox{; } x \\leq a,OR,x \\geq d \\\\\n",
    "       {x-a \\over b-a} & \\mbox{; } a < x < b \\\\\n",
    "       1 & \\mbox{; }b \\leq x \\leq c\\\\\n",
    "       {d-x \\over d-c} & \\mbox {; } c < x < d\\\\ \n",
    "    \\end{array}\n",
    "\\right.$------>\n",
    "$ µpas[10]\n",
    "\\left\\{\n",
    "    \\begin{array}{ll}\n",
    "       1 & \\mbox{; } 20 \\leq 10 \\leq 50 \\\\\n",
    "    \\end{array}\n",
    "\\right.$\n",
    "\n",
    "$µpas[10]=1$\n",
    "\n",
    "\n",
    ".  \n",
    "$ µ[rata] = \n",
    "\\left\\{\n",
    "    \\begin{array}{ll}\n",
    "       0 & \\mbox{; } x \\leq a,OR,x \\geq d \\\\\n",
    "       {x-a \\over b-a} & \\mbox{; } a < x < b \\\\\n",
    "       1 & \\mbox{; }b \\leq x \\leq c\\\\\n",
    "       {d-x \\over d-c} & \\mbox {; } c < x < d\\\\ \n",
    "    \\end{array}\n",
    "\\right.$------>\n",
    "$ µrata[1]\n",
    "\\left\\{\n",
    "    \\begin{array}{ll}\n",
    "       1 & \\mbox{; } 2 \\leq 1 \\leq 5 \\\\\n",
    "    \\end{array}\n",
    "\\right.$\n",
    "\n",
    "$µrata[1]=1$\n",
    "\n",
    "\n",
    ".  \n",
    "$ µ[sedang] = \n",
    "\\left\\{\n",
    "    \\begin{array}{ll}\n",
    "       0 & \\mbox{; } x \\leq aOR x \\geq d \\\\\n",
    "       {x-a \\over b-a} & \\mbox{; } a < x < b \\\\\n",
    "       1 & \\mbox{; }b \\leq x \\leq c\\\\\n",
    "       {d-x \\over d-c} & \\mbox {; }c < x < d\\\\ \n",
    "    \\end{array}\n",
    "\\right.$------>\n",
    "$ µsedang[1]\n",
    "\\left\\{\n",
    "    \\begin{array}{ll}\n",
    "       1 & \\mbox{; } 2 \\leq 1 \\leq 5 \\\\\n",
    "    \\end{array}\n",
    "\\right.$\n",
    "\n",
    "$µsedang[1]=1$\n",
    "\n",
    "\n"
   ]
  },
  {
   "cell_type": "markdown",
   "metadata": {},
   "source": [
    "## Mengaplikasikan Manual Metode Implikasi Mamdani\n",
    " <div class=\"alert alert-warning\">\n",
    "<div>\n",
    "\n",
    "\n",
    "\n",
    "Selanjutnya adalah mencari fungsi implikasi dan defuzzyfikasi. Pada metode mamdani, fungsi implikasi dilihat pada rules based sebelumnya, jika and diambil nilai max dan jika Or diambil nilai min,berdasarkan paper ini diambil nilai min, dari rule based maka ada 2 rules yang akan digunakan, yaitu:\n",
    "\n",
    "1. Jika Besar ruangan dosen **Normal** *(0.8)* dan Jumlah orang **sepi** *(1)*, dan Jumlah AC **sedikit** *(1)*, dan Spesifikasi PK AC **kecil** *(1)*, maka suhu ruangan **Nyaman** *(0,8)*\n",
    "2. Jika Besar ruangan dosen **Large** *(0.2)* dan Jumlah orang **sepi** *(1)*, dan Jumlah AC **sedikit** *(1)*, dan Spesifikasi PK AC **kecil** *(1)*, maka suhu ruangan **Nyaman** *(0,2)*\n",
    "\n",
    "Didapatkanlah nilai a1 dan a2\n",
    "1. **a1** = *0.8*  Batas atas\n",
    "2. **a2** = *0.2*  Batas bawah"
   ]
  },
  {
   "cell_type": "markdown",
   "metadata": {},
   "source": [
    "# Defuzzyfikasi <a class=\"anchor\" id=\"defuzzyfikasi\"></a>"
   ]
  },
  {
   "cell_type": "markdown",
   "metadata": {},
   "source": [
    "### Menghitung Defuzzyfikasi dengan Luas daerah  \n",
    "\n",
    "<div class=\"alert alert-success\">\n",
    "<div>\n",
    "\n",
    "Menghitung nilai Ai\n",
    "\n",
    "$\n",
    "\\begin{align}\n",
    "\\ {SegitigaA1} = &  (1*a*t)\\over 2 \\\\\\\n",
    "\\\n",
    "\\ {SegitigaA1} = &  (1*6*0.8)\\over 2 \\\\\n",
    "\\ {SegitigaA1} = &  2.4\n",
    "\\end{align}\n",
    "$\n",
    "\n",
    "$\n",
    "\\\n",
    "$\n",
    "\n",
    "$\n",
    "\\begin{align}\n",
    "\\ {PersegiPA2} = &  P*L \\\\\\\n",
    "\\\n",
    "\\ {PersegiPA2} = &  5*0.8 \\\\\n",
    "\\ {PersegiPA2} = &  4\n",
    "\\end{align}\n",
    "$\n",
    "\n",
    "$\n",
    "\\\n",
    "$\n",
    "\n",
    "$\n",
    "\\begin{align}\n",
    "\\ {SegitigaA3} = &  (1*a*t)\\over 2 \\\\\\\n",
    "\\\n",
    "\\ {SegitigaA3} = &  (1*5*0.8)\\over 2 \\\\\n",
    "\\ {SegitigaA3} = &  2\n",
    "\\end{align}\n",
    "$\n",
    "\n",
    "$\n",
    "\\\n",
    "$\n",
    "\n",
    "Menghitung nilai Xi\n",
    "\n",
    "\n",
    "$\n",
    "\\begin{align}\n",
    "\\ {Segitigax1}  = & na +  \\frac{2}{3}* nb-na  \\\\\\\n",
    "\\\n",
    "\\ {Segitigax1}  = & 7 +  \\frac{2}{3}* 13-7  \\\\\n",
    "\\ {Segitigax1}  = & 1 \n",
    "\\end{align}\n",
    "$\n",
    "\n",
    "\n",
    "$\n",
    "\\\n",
    "$\n",
    "\n",
    "$\n",
    "\\begin{align}\n",
    "\\ {PersegiPx2}  = & \\frac{1}{2}* (na+nc)  \\\\\\\n",
    "\\\n",
    "\\ {PersegiPx2}  = &  \\frac{1}{2}* (13+15)  \\\\\n",
    "\\ {PersegiPx2}  = & 14 \n",
    "\\end{align}\n",
    "$\n",
    "\n",
    "\n",
    "$\n",
    "\\\n",
    "$\n",
    "\n",
    "$\n",
    "\\begin{align}\n",
    "\\ {Segitigax3}  = & nd +  \\frac{2}{3}* ne-nd  \\\\\\\n",
    "\\\n",
    "\\ {Segitigax3}  = & 17 +  \\frac{1}{3}* 22-17  \\\\\n",
    "\\ {Segitigax3}  = & 18.6 \n",
    "\\end{align}\n",
    "$\n"
   ]
  },
  {
   "cell_type": "markdown",
   "metadata": {},
   "source": [
    "# Penghitungan Manual Defuzzyfikasi Metode Mamdani "
   ]
  },
  {
   "cell_type": "markdown",
   "metadata": {},
   "source": [
    "### Defuzzyfikasi Luas daerah\n",
    "\n",
    "<div class=\"alert alert-danger\">\n",
    "<div>\n",
    "\n",
    " <font color='black'>\n",
    " $ X =\n",
    "  \\begin{array}{ll}\n",
    "  Σ XixAi \\over Σ Ai \n",
    "  \\end{array}$\n",
    "  ---\n",
    "  ---\n",
    "$ Centroid=\n",
    "\\begin{align}\n",
    "\\frac{(11*2.4)+(14*4)+(18.66*2)}{2.4+4+2}  \n",
    "\\end{align}\n",
    "$  \n",
    "\n",
    "$ Centroid=\n",
    "\\begin{align}\n",
    "14.23\n",
    "\\end{align}\n",
    "$  "
   ]
  },
  {
   "cell_type": "markdown",
   "metadata": {},
   "source": [
    "\n",
    "# Penghitungan Komputasi Defuzzyfikasi "
   ]
  },
  {
   "cell_type": "code",
   "execution_count": 19,
   "metadata": {},
   "outputs": [
    {
     "name": "stdout",
     "output_type": "stream",
     "text": [
      "Perhitungan hasil komputasi = 14.66\n"
     ]
    }
   ],
   "source": [
    "suhu_ruangan.compute()\n",
    "prediksi_akhir = suhu_ruangan.compute()\n",
    "prediksi_akhir = suhu_ruangan.output['suhu']\n",
    "print (\"Perhitungan hasil komputasi = %.2f\" % prediksi_akhir)"
   ]
  },
  {
   "cell_type": "markdown",
   "metadata": {},
   "source": [
    "# Penghitungan Akurasi dan Error Untuk Membandingkan Hitungan Manual Terhadap Komputasi"
   ]
  },
  {
   "cell_type": "code",
   "execution_count": 20,
   "metadata": {},
   "outputs": [
    {
     "name": "stdout",
     "output_type": "stream",
     "text": [
      "Akurasi = 97.10 %\n",
      "Error = 2.90 %\n"
     ]
    }
   ],
   "source": [
    "outputmanual = 14.23\n",
    "if prediksi_akhir<outputmanual:\n",
    "    akurasi = prediksi_akhir*100/outputmanual ## akurasi jika nilai komputasi dibawah manual\n",
    "else:\n",
    "    akurasi=(outputmanual/prediksi_akhir)*100\n",
    "error=100-akurasi\n",
    "print (\"Akurasi = %.2f\" % akurasi + \" %\")\n",
    "print (\"Error = %.2f\" % error  + \" %\")"
   ]
  },
  {
   "cell_type": "markdown",
   "metadata": {},
   "source": [
    "# Visualisasi Predeksi Akhir"
   ]
  },
  {
   "cell_type": "code",
   "execution_count": 21,
   "metadata": {},
   "outputs": [
    {
     "name": "stderr",
     "output_type": "stream",
     "text": [
      "D:\\Anaconda3\\lib\\site-packages\\matplotlib\\figure.py:459: UserWarning: matplotlib is currently using a non-GUI backend, so cannot show the figure\n",
      "  \"matplotlib is currently using a non-GUI backend, \"\n"
     ]
    },
    {
     "data": {
      "image/png": "[encoded data removed]",
      "text/plain": [
       "<Figure size 432x288 with 1 Axes>"
      ]
     },
     "metadata": {},
     "output_type": "display_data"
    }
   ],
   "source": [
    "suhu.view(sim = suhu_ruangan)"
   ]
  },
  {
   "cell_type": "markdown",
   "metadata": {},
   "source": [
    " <div class=\"alert alert-success\">\n",
    "<div>\n",
    "\n",
    "Seperti pada Visualisasi diatas, Nilai defuzzyfkasi **suhu ruangan adalah 14.66 C. ** Sesuai dengan gambar jika hasil output sebesar 14.66 C maka akan menghasilkan suhu ruangan yang nyaman.\n"
   ]
  },
  {
   "cell_type": "markdown",
   "metadata": {},
   "source": [
    " <div class=\"alert alert-success\">\n",
    "<div>\n",
    "\n",
    "untuk output pertama python (komputasi) memiliki nilai sebesar 14.66 C, sedangkan dengan penghitungan manual memilki nilai 14.22 C. selisih antara hitungan manual python dengan penghitungan komputasi sebesar 0.44 C"
   ]
  }
 ],
 "metadata": {
  "kernelspec": {
   "display_name": "Python 3",
   "language": "python",
   "name": "python3"
  },
  "language_info": {
   "codemirror_mode": {
    "name": "ipython",
    "version": 3
   },
   "file_extension": ".py",
   "mimetype": "text/x-python",
   "name": "python",
   "nbconvert_exporter": "python",
   "pygments_lexer": "ipython3",
   "version": "3.7.4"
  }
 },
 "nbformat": 4,
 "nbformat_minor": 2
}
